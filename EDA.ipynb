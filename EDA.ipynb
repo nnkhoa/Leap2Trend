{
 "cells": [
  {
   "cell_type": "markdown",
   "metadata": {},
   "source": [
    "# Exploratory data analysis on the San Francisco 311 data\n",
    "Data can be downloaded from: https://data.sfgov.org/City-Infrastructure/311-Cases/vw6y-z8j6/data"
   ]
  },
  {
   "cell_type": "code",
   "execution_count": 61,
   "metadata": {},
   "outputs": [
    {
     "name": "stdout",
     "output_type": "stream",
     "text": [
      "The autoreload extension is already loaded. To reload it, use:\n",
      "  %reload_ext autoreload\n"
     ]
    },
    {
     "data": {
      "text/html": [
       "<div>\n",
       "<style scoped>\n",
       "    .dataframe tbody tr th:only-of-type {\n",
       "        vertical-align: middle;\n",
       "    }\n",
       "\n",
       "    .dataframe tbody tr th {\n",
       "        vertical-align: top;\n",
       "    }\n",
       "\n",
       "    .dataframe thead th {\n",
       "        text-align: right;\n",
       "    }\n",
       "</style>\n",
       "<table border=\"1\" class=\"dataframe\">\n",
       "  <thead>\n",
       "    <tr style=\"text-align: right;\">\n",
       "      <th></th>\n",
       "      <th>headline</th>\n",
       "      <th>text</th>\n",
       "      <th>dtickers</th>\n",
       "      <th>dtopics</th>\n",
       "      <th>time</th>\n",
       "      <th>date</th>\n",
       "    </tr>\n",
       "  </thead>\n",
       "  <tbody>\n",
       "    <tr>\n",
       "      <th>0</th>\n",
       "      <td>Nintendo Switch, Xbox One &amp; PS4 Prime Day Deal...</td>\n",
       "      <td>Nintendo Switch, Xbox One &amp; PS4 Prime Day Deal...</td>\n",
       "      <td>[{'Id': 'MSFT', 'score': '100'}, {'Id': '7974@...</td>\n",
       "      <td>[{'Id': 'BIZNEWS', 'score': '100'}, {'Id': 'CP...</td>\n",
       "      <td>09:36:00.297000</td>\n",
       "      <td>2019-07-14</td>\n",
       "    </tr>\n",
       "    <tr>\n",
       "      <th>1</th>\n",
       "      <td>Ascent Media Introduces AERO, a New Enterprise...</td>\n",
       "      <td>Ascent Media Introduces AERO, a Ne...</td>\n",
       "      <td>[{'Id': 'MSFT', 'score': '83'}, {'Id': '137866...</td>\n",
       "      <td>[{'Id': 'BIZNEWS', 'score': '100'}, {'Id': 'MS...</td>\n",
       "      <td>08:45:27.795000</td>\n",
       "      <td>2019-07-12</td>\n",
       "    </tr>\n",
       "    <tr>\n",
       "      <th>2</th>\n",
       "      <td>PC, Laptop, Printer, WiFi Router, SSD &amp; Monito...</td>\n",
       "      <td>PC, Laptop, Printer, WiFi Router, SSD &amp; Monito...</td>\n",
       "      <td>[{'Id': 'MSFT', 'score': '100'}, {'Id': 'DELL'...</td>\n",
       "      <td>[{'Id': 'BIZNEWS', 'score': '100'}, {'Id': 'ER...</td>\n",
       "      <td>12:33:00.343000</td>\n",
       "      <td>2019-07-14</td>\n",
       "    </tr>\n",
       "    <tr>\n",
       "      <th>3</th>\n",
       "      <td>Corent, Microsoft, Financial Inclusion Leader ...</td>\n",
       "      <td>Corent, Microsoft, Financial Inclusion Leader ...</td>\n",
       "      <td>[{'Id': 'MSFT', 'score': '100'}, {'Id': 'XYF',...</td>\n",
       "      <td>[{'Id': 'BIZNEWS', 'score': '100'}, {'Id': 'TE...</td>\n",
       "      <td>10:00:00.411000</td>\n",
       "      <td>2019-07-02</td>\n",
       "    </tr>\n",
       "    <tr>\n",
       "      <th>4</th>\n",
       "      <td>I Can't Believe It's Not Butter!(R), Interpoll...</td>\n",
       "      <td>Report Groundbreaking Results at Conclusion of...</td>\n",
       "      <td>[{'Id': 'MSFT', 'score': '100'}, {'Id': 'UNA@N...</td>\n",
       "      <td>[{'Id': 'BIZNEWS', 'score': '100'}, {'Id': 'TE...</td>\n",
       "      <td>01:11:52.613000</td>\n",
       "      <td>2019-07-04</td>\n",
       "    </tr>\n",
       "  </tbody>\n",
       "</table>\n",
       "</div>"
      ],
      "text/plain": [
       "                                            headline  \\\n",
       "0  Nintendo Switch, Xbox One & PS4 Prime Day Deal...   \n",
       "1  Ascent Media Introduces AERO, a New Enterprise...   \n",
       "2  PC, Laptop, Printer, WiFi Router, SSD & Monito...   \n",
       "3  Corent, Microsoft, Financial Inclusion Leader ...   \n",
       "4  I Can't Believe It's Not Butter!(R), Interpoll...   \n",
       "\n",
       "                                                text  \\\n",
       "0  Nintendo Switch, Xbox One & PS4 Prime Day Deal...   \n",
       "1              Ascent Media Introduces AERO, a Ne...   \n",
       "2  PC, Laptop, Printer, WiFi Router, SSD & Monito...   \n",
       "3  Corent, Microsoft, Financial Inclusion Leader ...   \n",
       "4  Report Groundbreaking Results at Conclusion of...   \n",
       "\n",
       "                                            dtickers  \\\n",
       "0  [{'Id': 'MSFT', 'score': '100'}, {'Id': '7974@...   \n",
       "1  [{'Id': 'MSFT', 'score': '83'}, {'Id': '137866...   \n",
       "2  [{'Id': 'MSFT', 'score': '100'}, {'Id': 'DELL'...   \n",
       "3  [{'Id': 'MSFT', 'score': '100'}, {'Id': 'XYF',...   \n",
       "4  [{'Id': 'MSFT', 'score': '100'}, {'Id': 'UNA@N...   \n",
       "\n",
       "                                             dtopics             time  \\\n",
       "0  [{'Id': 'BIZNEWS', 'score': '100'}, {'Id': 'CP...  09:36:00.297000   \n",
       "1  [{'Id': 'BIZNEWS', 'score': '100'}, {'Id': 'MS...  08:45:27.795000   \n",
       "2  [{'Id': 'BIZNEWS', 'score': '100'}, {'Id': 'ER...  12:33:00.343000   \n",
       "3  [{'Id': 'BIZNEWS', 'score': '100'}, {'Id': 'TE...  10:00:00.411000   \n",
       "4  [{'Id': 'BIZNEWS', 'score': '100'}, {'Id': 'TE...  01:11:52.613000   \n",
       "\n",
       "         date  \n",
       "0  2019-07-14  \n",
       "1  2019-07-12  \n",
       "2  2019-07-14  \n",
       "3  2019-07-02  \n",
       "4  2019-07-04  "
      ]
     },
     "execution_count": 61,
     "metadata": {},
     "output_type": "execute_result"
    }
   ],
   "source": [
    "%matplotlib inline\n",
    "%load_ext autoreload\n",
    "import matplotlib.pyplot as plt\n",
    "\n",
    "import pandas as pd\n",
    "pd.options.mode.chained_assignment = None  # default='warn'\n",
    "\n",
    "import numpy as np\n",
    "\n",
    "## The time window to bucket samples\n",
    "TIME_RANGE = '24H'\n",
    "\n",
    "## File path (original data is ~1GB, this is a reduced version with only categories and dates)\n",
    "#Original file:\n",
    "#DATAPATH = \"SF311_simplified.csv\"\n",
    "\n",
    "#Sample raw data:\n",
    "DATAPATH = \"SF_data/SF-311_simplified.csv\"\n",
    "\n",
    "import pickle as pkl\n",
    "\n",
    "#with open('data/MSFT_1907_noPreprocessing', 'rb') as f:\n",
    "with open('data/MSFT_Jul2019_2020', 'rb') as f:\n",
    "    data = pkl.load(f)\n",
    "    \n",
    "data.head()"
   ]
  },
  {
   "cell_type": "code",
   "execution_count": 3,
   "metadata": {},
   "outputs": [
    {
     "name": "stdout",
     "output_type": "stream",
     "text": [
      "['!', '\"', '#', '$', '%', '&', \"'\", '(', ')', '*', '+', ',', '-', '.', '/', ':', ';', '<', '=', '>', '?', '@', '[', '\\\\', ']', '^', '_', '`', '{', '|', '}', '~']\n"
     ]
    }
   ],
   "source": [
    "import spacy\n",
    "from nltk.tokenize import word_tokenize\n",
    "from nltk.tokenize import word_tokenize, sent_tokenize\n",
    "import re\n",
    "import nltk\n",
    "from nltk.corpus import stopwords\n",
    "from nltk.tokenize import RegexpTokenizer\n",
    "from string import punctuation\n",
    "import numpy as np # linear algebra\n",
    "import pandas as pd # data processing, CSV file I/O (e.g. pd.read_csv)\n",
    "import os\n",
    "from sklearn.feature_extraction.text import CountVectorizer\n",
    "import re\n",
    "import seaborn as sns\n",
    "from nltk.stem.porter import PorterStemmer\n",
    "from nltk.stem.wordnet import WordNetLemmatizer\n",
    "\n",
    "print(list(punctuation))\n",
    "nlp = spacy.load(\"en_core_web_md\") #uncomment the code in the previous cell to download the model\n",
    "\n",
    "\n",
    "stop_words = set(stopwords.words('english'))\n",
    "\n",
    "new_words = [\"said\", \"inc\", \"year\", \"corp\", \"also\", \"net\", \"may\", \"com\", \"percent\", \"time\", \"new\",\n",
    "            'link', 'see']\n",
    "stop_words = list(stop_words.union(new_words)) + list(punctuation)\n",
    "\n",
    "new_stop_words = []\n",
    "for stop_word in stop_words:\n",
    "    new_stop_words.append(stop_word[0].upper() + stop_word[1:])\n",
    "\n",
    "stop_words += new_stop_words\n",
    "\n",
    "ps = PorterStemmer()\n",
    "lem = WordNetLemmatizer()\n",
    "\n",
    "\n",
    "def pre_process(text, return_tokens=True):\n",
    "    clean = []\n",
    "    for sent in sent_tokenize(text, language=\"french\"):\n",
    "\n",
    "        sent = sent.replace('¬\\n', '')\n",
    "        sent = sent.replace('\\n', ' ')\n",
    "        sent = re.sub(\"&lt;/?.*?&gt;\",\" &lt;&gt; \",sent)\n",
    "        sent = re.sub('(\\\\d|\\\\W)',' ',sent)\n",
    "        sent = re.sub(' +', ' ', sent)\n",
    "        \n",
    "        #doc = nlp(text)\n",
    "        #for ent in doc.ents:\n",
    "        #   # print(ent.text, ent.start_char, ent.end_char, ent.label_)\n",
    "        #    if ent.label_ in ['DATE', 'MONEY', 'WORK_OF_ART', 'CARDINAL', 'PERCENT']:\n",
    "        #        text = text.replace(ent.text, ' ')\n",
    "        sent = re.sub(r'http\\S+', '', sent)\n",
    "\n",
    "        sent = sent.lower()\n",
    "        words = word_tokenize(sent, language=\"french\")\n",
    "        temp_words = [word for word in words if word not in stop_words]\n",
    "        temp_words = [word for word in temp_words if len(word) > 2]\n",
    "        temp_words = [word for word in temp_words if not word.isupper()]\n",
    "        temp_words = [word for word in temp_words if '$' not in word]\n",
    "        temp_words = [word for word in temp_words if '@' not in word]\n",
    "        temp_words = [word for word in temp_words if 'http' not in word]\n",
    "        temp_words = [word for word in temp_words if 'www' not in word]\n",
    "        temp_words = [word for word in temp_words if 'link' not in word]\n",
    "        temp_words = [lem.lemmatize(word) for word in temp_words if lem.lemmatize(word) not in stop_words]\n",
    "        \n",
    "        clean += temp_words\n",
    "    \n",
    "    if return_tokens: \n",
    "        return clean\n",
    "    else:\n",
    "        return ' '.join(clean)\n",
    "\n",
    "def remove_noise(text):\n",
    "    while '--' in text:\n",
    "        text = text[text.index('--')+2:]\n",
    "    if '. Visit' in text:\n",
    "        text = text[:text.index('. Visit')]\n",
    "    if '. visit' in text:\n",
    "        text = text[:text.index('. visit')]\n",
    "    while '-0-' in text:\n",
    "        text = text[:text.index('-0-')]\n",
    "    while ' SOURCE ' in text:\n",
    "        text = text[:text.index(' SOURCE ')]\n",
    "    while 'NOTE:' in text:\n",
    "        text = text[:text.index('NOTE:')]\n",
    "    while 'More information can be found' in text:\n",
    "        text = text[:text.index('More information can be found')]\n",
    "    while 'CONTACT:' in text:\n",
    "        text = text[:text.index('CONTACT:')]\n",
    "    while 'For more information' in text:\n",
    "        text = text[:text.index('For more information')]\n",
    "    while 'NOTE TO EDITORS:' in text:\n",
    "        text = text[:text.index('NOTE TO EDITORS:')]\n",
    "    while 'can be found at' in text:\n",
    "        text = text[:text.index('can be found at')]\n",
    "    while 'View source version' in text:\n",
    "        text = text[:text.index('View source version')]\n",
    "\n",
    "    \n",
    "    return text\n",
    "\n",
    "stop_words = stop_words + new_stop_words + ['editor', 'contact', 'bloomberg', 'news', 'reporter', 'msft', 'window', \n",
    "'information', 'story', 'york', 'prn', 'san', 'bus', 'based', 'first', \n",
    "'help', 'today', 'including', 'top', 'site', 'related', 'princeton', \n",
    "'reporting', 'use', 'washington', 'click', 'say', 'announced', \n",
    "'best', 'yhoo', 'people', 'well', 'make', 'cnp', 'seattle', \n",
    "'taginfo', 'highavailability', 'full', 'end', 'using', 'eng',\n",
    "'est', 'ticker', 'company']\n",
    "\n",
    "corpus = [pre_process(remove_noise(text), return_tokens=True) for text in data['text'].tolist()]"
   ]
  },
  {
   "cell_type": "code",
   "execution_count": 4,
   "metadata": {},
   "outputs": [
    {
     "data": {
      "text/plain": [
       "['july',\n",
       " 'xbox',\n",
       " 'playstation',\n",
       " 'nintendo',\n",
       " 'prime',\n",
       " 'day',\n",
       " 'deal',\n",
       " 'starting',\n",
       " 'retail',\n",
       " 'fuse',\n",
       " 'online',\n",
       " 'deal',\n",
       " 'expert',\n",
       " 'rounded',\n",
       " 'early',\n",
       " 'deal',\n",
       " 'listing',\n",
       " 'nintendo',\n",
       " 'prime',\n",
       " 'day',\n",
       " 'deal',\n",
       " 'save',\n",
       " 'mario',\n",
       " 'kart',\n",
       " 'deluxe',\n",
       " 'nintendo',\n",
       " 'switch',\n",
       " 'selling',\n",
       " 'nintendo',\n",
       " 'switch',\n",
       " 'game',\n",
       " 'sale',\n",
       " 'amazon',\n",
       " 'save',\n",
       " 'legend',\n",
       " 'zelda',\n",
       " 'breath',\n",
       " 'wild',\n",
       " 'nintendo',\n",
       " 'switch',\n",
       " 'selling',\n",
       " 'nintendo',\n",
       " 'switch',\n",
       " 'game',\n",
       " 'sale',\n",
       " 'amazon',\n",
       " 'save',\n",
       " 'nintendo',\n",
       " 'labo',\n",
       " 'variety',\n",
       " 'kit',\n",
       " 'diy',\n",
       " 'kit',\n",
       " 'let',\n",
       " 'customizable',\n",
       " 'cardboard',\n",
       " 'creation',\n",
       " 'nintendo',\n",
       " 'switch',\n",
       " 'save',\n",
       " 'nintendo',\n",
       " 'console',\n",
       " 'game',\n",
       " 'bundle',\n",
       " 'accessory',\n",
       " 'amazon',\n",
       " 'prime',\n",
       " 'day',\n",
       " 'sale',\n",
       " 'price',\n",
       " 'drop',\n",
       " 'nintendo',\n",
       " 'switch',\n",
       " 'nintendo',\n",
       " 'wii',\n",
       " 'gear',\n",
       " 'xbox',\n",
       " 'one',\n",
       " 'prime',\n",
       " 'day',\n",
       " 'deal',\n",
       " 'save',\n",
       " 'xbox',\n",
       " 'one',\n",
       " 'two',\n",
       " 'controller',\n",
       " 'bundle',\n",
       " 'save',\n",
       " 'xbox',\n",
       " 'one',\n",
       " 'consolesave',\n",
       " 'xbox',\n",
       " 'one',\n",
       " 'playerunknown',\n",
       " 'battleground',\n",
       " 'bundlesave',\n",
       " 'microsoft',\n",
       " 'xbox',\n",
       " 'one',\n",
       " 'console',\n",
       " 'game',\n",
       " 'bundle',\n",
       " 'accessory',\n",
       " 'amazon',\n",
       " 'prime',\n",
       " 'day',\n",
       " 'salebest',\n",
       " 'sony',\n",
       " 'prime',\n",
       " 'day',\n",
       " 'deal',\n",
       " 'save',\n",
       " 'marvel',\n",
       " 'spider',\n",
       " 'man',\n",
       " 'bundle',\n",
       " 'dualshock',\n",
       " 'wireless',\n",
       " 'controllersave',\n",
       " 'dualshock',\n",
       " 'wireless',\n",
       " 'controller',\n",
       " 'playstation',\n",
       " 'save',\n",
       " 'logitech',\n",
       " 'driving',\n",
       " 'force',\n",
       " 'gaming',\n",
       " 'racing',\n",
       " 'wheel',\n",
       " 'pedalssave',\n",
       " 'playstation',\n",
       " 'platinum',\n",
       " 'wireless',\n",
       " 'headsetsave',\n",
       " 'soulcalibur',\n",
       " 'playstation',\n",
       " 'collector',\n",
       " 'editionsave',\n",
       " 'playstation',\n",
       " 'astro',\n",
       " 'bot',\n",
       " 'rescue',\n",
       " 'mission',\n",
       " 'moss',\n",
       " 'bundlesave',\n",
       " 'sony',\n",
       " 'playstation',\n",
       " 'console',\n",
       " 'game',\n",
       " 'bundle',\n",
       " 'accessory',\n",
       " 'amazon',\n",
       " 'prime',\n",
       " 'day',\n",
       " 'sale',\n",
       " 'prime',\n",
       " 'day',\n",
       " 'deal',\n",
       " 'limited',\n",
       " 'stock',\n",
       " 'discount',\n",
       " 'accessible',\n",
       " 'prime',\n",
       " 'member',\n",
       " 'find',\n",
       " 'currently',\n",
       " 'active',\n",
       " 'deal',\n",
       " 'amazon',\n",
       " 'prime',\n",
       " 'day',\n",
       " 'page',\n",
       " 'retail',\n",
       " 'fuse',\n",
       " 'retail',\n",
       " 'fuse',\n",
       " 'report',\n",
       " 'latest',\n",
       " 'retail',\n",
       " 'amazon',\n",
       " 'associate',\n",
       " 'retail',\n",
       " 'fuse',\n",
       " 'earns',\n",
       " 'qualifying',\n",
       " 'purchase']"
      ]
     },
     "execution_count": 4,
     "metadata": {},
     "output_type": "execute_result"
    }
   ],
   "source": [
    "corpus[0]"
   ]
  },
  {
   "cell_type": "code",
   "execution_count": 5,
   "metadata": {},
   "outputs": [],
   "source": [
    "def get_similarity_matrix(KEYWORD_LIST, kw_list):\n",
    "    \n",
    "    similarity_matrix = []\n",
    "    common_kw_list = nlp(','.join(KEYWORD_LIST))\n",
    "    new_kw_list = nlp(','.join(kw_list))\n",
    "\n",
    "    for keyword1 in common_kw_list:\n",
    "        if keyword1.text not in [',']:\n",
    "            similarity_vector = []\n",
    "            for keyword2 in common_kw_list:\n",
    "                if keyword2.text not in [',']:\n",
    "                    \n",
    "                    if keyword1.text == keyword2.text:\n",
    "                        similarity = 1.0\n",
    "                        similarity_vector.append(similarity)\n",
    "                    else:\n",
    "                        found = False\n",
    "                        for lookout_keyword in new_kw_list:\n",
    "                            if lookout_keyword.text == keyword2.text:\n",
    "                                similarity = lookout_keyword.similarity(keyword1)\n",
    "                                found = True\n",
    "                        if found == False:\n",
    "                            similarity_vector.append(0.0)\n",
    "                        else:\n",
    "                            similarity_vector.append(similarity)\n",
    "                            \n",
    "            similarity_matrix.append(similarity_vector)\n",
    "    return np.array(similarity_matrix)"
   ]
  },
  {
   "cell_type": "code",
   "execution_count": 6,
   "metadata": {},
   "outputs": [],
   "source": [
    "def get_ranked_matrix(matrix_similarity, sorted_matrix):\n",
    "\n",
    "    rank = 1\n",
    "    ranked_matrix = np.zeros(shape=(matrix_similarity.shape[0], matrix_similarity.shape[0]))\n",
    "\n",
    "    for i in range(matrix_similarity.shape[0]):\n",
    "        for j in range(i, matrix_similarity.shape[0]):\n",
    "            temp = sorted_matrix[i][j]\n",
    "            for k in range(matrix_similarity.shape[0]):\n",
    "                for p in range(k, matrix_similarity.shape[0]):\n",
    "                    if (matrix_similarity[k][p] != 1.0) and (temp != 1.0):\n",
    "                        if matrix_similarity[k][p] == temp:\n",
    "                            ranked_matrix[k][p] = rank + 1\n",
    "\n",
    "                            rank += 1\n",
    "                            continue\n",
    "    return ranked_matrix"
   ]
  },
  {
   "cell_type": "code",
   "execution_count": 10,
   "metadata": {},
   "outputs": [],
   "source": [
    "def get_top_n_words(corpus, n=None):\n",
    "    vec = CountVectorizer(stop_words=stop_words).fit(corpus)\n",
    "    bag_of_words = vec.transform(corpus)\n",
    "    sum_words = bag_of_words.sum(axis=0) \n",
    "    words_freq = [(word, sum_words[0, idx]) for word, idx in      \n",
    "                   vec.vocabulary_.items()]\n",
    "    words_freq =sorted(words_freq, key = lambda x: x[1], \n",
    "                       reverse=True)\n",
    "    return words_freq[:n]#Convert most freq words to dataframe for plotting bar plot\n"
   ]
  },
  {
   "cell_type": "code",
   "execution_count": 13,
   "metadata": {},
   "outputs": [],
   "source": [
    "KEYWORD_LIST = ['microsoft', 'video', 'cloud', 'team', 'conference', 'security']"
   ]
  },
  {
   "cell_type": "code",
   "execution_count": null,
   "metadata": {},
   "outputs": [
    {
     "name": "stderr",
     "output_type": "stream",
     "text": [
      " 31%|███       | 3560/11504 [00:56<02:02, 65.02it/s] "
     ]
    }
   ],
   "source": [
    "from tqdm import tqdm\n",
    "rankings = []\n",
    "dates = []\n",
    "times = []\n",
    "\n",
    "for index, text in tqdm(enumerate(corpus), total=len(corpus)):\n",
    "    try:\n",
    "        text = ' '.join(text)\n",
    "        top_words = get_top_n_words([text], n=90)\n",
    "        \n",
    "        top_df = pd.DataFrame(top_words)\n",
    "\n",
    "        top_df.columns=[\"N-grams\", \"Freq\"]\n",
    "        kw_list = top_df['N-grams'].tolist()\n",
    "\n",
    "        matrix_similarity = get_similarity_matrix(KEYWORD_LIST, kw_list)\n",
    "\n",
    "        sorted_vector = np.flip(np.sort(np.concatenate(matrix_similarity, axis=0)))\n",
    "        sorted_matrix = np.reshape(sorted_vector, (matrix_similarity.shape[0], matrix_similarity.shape[1]))\n",
    "\n",
    "        ranked_matrix = get_ranked_matrix(matrix_similarity, sorted_matrix)\n",
    "\n",
    "        pair_keyword_rankings = []\n",
    "        for i in range(ranked_matrix.shape[0]):\n",
    "            for j in range(i, ranked_matrix.shape[0]):\n",
    "                #if ranked_matrix[i][j] > 0 and ranked_matrix[i][j] < 90:\n",
    "                    pair_keyword_rankings.append(('-'.join([KEYWORD_LIST[i], KEYWORD_LIST[j]]), ranked_matrix[i][j]))\n",
    "        \n",
    "        \n",
    "        if len(pair_keyword_rankings) > 0:\n",
    "            rankings.append(pair_keyword_rankings)\n",
    "            dates.append(data['date'].tolist()[index])\n",
    "            times.append(data['time'].tolist()[index])\n",
    "    except:\n",
    "        pass\n",
    "        #print(text)\n",
    "        #print('empty vocabulary; perhaps the documents only contain stop words') \n"
   ]
  },
  {
   "cell_type": "code",
   "execution_count": 67,
   "metadata": {},
   "outputs": [
    {
     "data": {
      "text/plain": [
       "(1165, 1165)"
      ]
     },
     "execution_count": 67,
     "metadata": {},
     "output_type": "execute_result"
    }
   ],
   "source": [
    "len(dates), len(rankings)"
   ]
  },
  {
   "cell_type": "code",
   "execution_count": 68,
   "metadata": {},
   "outputs": [
    {
     "data": {
      "text/html": [
       "<div>\n",
       "<style scoped>\n",
       "    .dataframe tbody tr th:only-of-type {\n",
       "        vertical-align: middle;\n",
       "    }\n",
       "\n",
       "    .dataframe tbody tr th {\n",
       "        vertical-align: top;\n",
       "    }\n",
       "\n",
       "    .dataframe thead th {\n",
       "        text-align: right;\n",
       "    }\n",
       "</style>\n",
       "<table border=\"1\" class=\"dataframe\">\n",
       "  <thead>\n",
       "    <tr style=\"text-align: right;\">\n",
       "      <th></th>\n",
       "      <th>category</th>\n",
       "      <th>Request Details</th>\n",
       "      <th>timestamp</th>\n",
       "    </tr>\n",
       "    <tr>\n",
       "      <th>date</th>\n",
       "      <th></th>\n",
       "      <th></th>\n",
       "      <th></th>\n",
       "    </tr>\n",
       "  </thead>\n",
       "  <tbody>\n",
       "    <tr>\n",
       "      <th>2019-07-01 01:48:20.055</th>\n",
       "      <td>cloud-team</td>\n",
       "      <td>Article 60</td>\n",
       "      <td>1561945700</td>\n",
       "    </tr>\n",
       "    <tr>\n",
       "      <th>2019-07-01 01:48:20.055</th>\n",
       "      <td>microsoft-video</td>\n",
       "      <td>Article 60</td>\n",
       "      <td>1561945700</td>\n",
       "    </tr>\n",
       "    <tr>\n",
       "      <th>2019-07-01 01:48:20.055</th>\n",
       "      <td>microsoft-cloud</td>\n",
       "      <td>Article 60</td>\n",
       "      <td>1561945700</td>\n",
       "    </tr>\n",
       "    <tr>\n",
       "      <th>2019-07-01 01:48:20.055</th>\n",
       "      <td>microsoft-team</td>\n",
       "      <td>Article 60</td>\n",
       "      <td>1561945700</td>\n",
       "    </tr>\n",
       "    <tr>\n",
       "      <th>2019-07-01 01:48:20.055</th>\n",
       "      <td>microsoft-conference</td>\n",
       "      <td>Article 60</td>\n",
       "      <td>1561945700</td>\n",
       "    </tr>\n",
       "  </tbody>\n",
       "</table>\n",
       "</div>"
      ],
      "text/plain": [
       "                                     category Request Details   timestamp\n",
       "date                                                                     \n",
       "2019-07-01 01:48:20.055            cloud-team      Article 60  1561945700\n",
       "2019-07-01 01:48:20.055       microsoft-video      Article 60  1561945700\n",
       "2019-07-01 01:48:20.055       microsoft-cloud      Article 60  1561945700\n",
       "2019-07-01 01:48:20.055        microsoft-team      Article 60  1561945700\n",
       "2019-07-01 01:48:20.055  microsoft-conference      Article 60  1561945700"
      ]
     },
     "execution_count": 68,
     "metadata": {},
     "output_type": "execute_result"
    }
   ],
   "source": [
    "data_dict = []\n",
    "for idx, item in enumerate(zip(dates, times, rankings)):\n",
    "    date, time, ranking = item\n",
    "    for rank in ranking:\n",
    "        date_time = str(date).replace('-', '/') + ' ' + str(time)\n",
    "        line = {'category': rank[0], 'Request Details': 'Article ' + str(idx), 'date': date_time}\n",
    "        data_dict.append(line)\n",
    "    \n",
    "raw_sample_test = pd.DataFrame.from_dict(data_dict)\n",
    "raw_sample_test = raw_sample_test.sort_values(by=\"date\") # sanity!\n",
    "\n",
    "from moda.dataprep import raw_to_ts\n",
    "ts = raw_to_ts(raw_sample_test, date_format=\"%Y/%m/%d %H:%M:%S\")\n",
    "\n",
    "ts.head()"
   ]
  },
  {
   "cell_type": "code",
   "execution_count": 90,
   "metadata": {},
   "outputs": [],
   "source": [
    "#!pip install moda"
   ]
  },
  {
   "cell_type": "code",
   "execution_count": 91,
   "metadata": {},
   "outputs": [
    {
     "data": {
      "text/html": [
       "<div>\n",
       "<style scoped>\n",
       "    .dataframe tbody tr th:only-of-type {\n",
       "        vertical-align: middle;\n",
       "    }\n",
       "\n",
       "    .dataframe tbody tr th {\n",
       "        vertical-align: top;\n",
       "    }\n",
       "\n",
       "    .dataframe thead th {\n",
       "        text-align: right;\n",
       "    }\n",
       "</style>\n",
       "<table border=\"1\" class=\"dataframe\">\n",
       "  <thead>\n",
       "    <tr style=\"text-align: right;\">\n",
       "      <th></th>\n",
       "      <th>category</th>\n",
       "      <th>Request Details</th>\n",
       "      <th>timestamp</th>\n",
       "    </tr>\n",
       "    <tr>\n",
       "      <th>date</th>\n",
       "      <th></th>\n",
       "      <th></th>\n",
       "      <th></th>\n",
       "    </tr>\n",
       "  </thead>\n",
       "  <tbody>\n",
       "    <tr>\n",
       "      <th>2019-07-01 01:48:20.055</th>\n",
       "      <td>cloud-team</td>\n",
       "      <td>Article 60</td>\n",
       "      <td>1561945700</td>\n",
       "    </tr>\n",
       "    <tr>\n",
       "      <th>2019-07-01 01:48:20.055</th>\n",
       "      <td>microsoft-video</td>\n",
       "      <td>Article 60</td>\n",
       "      <td>1561945700</td>\n",
       "    </tr>\n",
       "    <tr>\n",
       "      <th>2019-07-01 01:48:20.055</th>\n",
       "      <td>microsoft-cloud</td>\n",
       "      <td>Article 60</td>\n",
       "      <td>1561945700</td>\n",
       "    </tr>\n",
       "    <tr>\n",
       "      <th>2019-07-01 01:48:20.055</th>\n",
       "      <td>microsoft-team</td>\n",
       "      <td>Article 60</td>\n",
       "      <td>1561945700</td>\n",
       "    </tr>\n",
       "    <tr>\n",
       "      <th>2019-07-01 01:48:20.055</th>\n",
       "      <td>microsoft-conference</td>\n",
       "      <td>Article 60</td>\n",
       "      <td>1561945700</td>\n",
       "    </tr>\n",
       "  </tbody>\n",
       "</table>\n",
       "</div>"
      ],
      "text/plain": [
       "                                     category Request Details   timestamp\n",
       "date                                                                     \n",
       "2019-07-01 01:48:20.055            cloud-team      Article 60  1561945700\n",
       "2019-07-01 01:48:20.055       microsoft-video      Article 60  1561945700\n",
       "2019-07-01 01:48:20.055       microsoft-cloud      Article 60  1561945700\n",
       "2019-07-01 01:48:20.055        microsoft-team      Article 60  1561945700\n",
       "2019-07-01 01:48:20.055  microsoft-conference      Article 60  1561945700"
      ]
     },
     "execution_count": 91,
     "metadata": {},
     "output_type": "execute_result"
    }
   ],
   "source": [
    "ts.head()"
   ]
  },
  {
   "cell_type": "code",
   "execution_count": 92,
   "metadata": {},
   "outputs": [
    {
     "name": "stdout",
     "output_type": "stream",
     "text": [
      "Dataset length: 5977\n",
      "Min date: 2019-07-01 01:48:20.055000\n",
      "Max date: 2020-07-30 20:53:09.891000\n",
      "Total time: 395 days 19:04:49.836000\n",
      "Dataset contains 15 categories.\n"
     ]
    }
   ],
   "source": [
    "## Some general stats\n",
    "\n",
    "print(\"Dataset length: \" + str(len(ts)))\n",
    "print(\"Min date: \" + str(ts.index.get_level_values('date').min()))\n",
    "print(\"Max date: \" + str(ts.index.get_level_values('date').max()))\n",
    "\n",
    "print(\"Total time: {}\".format(ts.index.get_level_values('date').max() - ts.index.get_level_values('date').min()))\n",
    "\n",
    "print(\"Dataset contains {} categories.\".format(len(ts['category'].unique())))\n",
    "\n"
   ]
  },
  {
   "cell_type": "markdown",
   "metadata": {},
   "source": [
    "#### Next, we decide on the time interval and aggregate items per time and category"
   ]
  },
  {
   "cell_type": "code",
   "execution_count": 106,
   "metadata": {},
   "outputs": [
    {
     "data": {
      "text/html": [
       "<div>\n",
       "<style scoped>\n",
       "    .dataframe tbody tr th:only-of-type {\n",
       "        vertical-align: middle;\n",
       "    }\n",
       "\n",
       "    .dataframe tbody tr th {\n",
       "        vertical-align: top;\n",
       "    }\n",
       "\n",
       "    .dataframe thead th {\n",
       "        text-align: right;\n",
       "    }\n",
       "</style>\n",
       "<table border=\"1\" class=\"dataframe\">\n",
       "  <thead>\n",
       "    <tr style=\"text-align: right;\">\n",
       "      <th></th>\n",
       "      <th></th>\n",
       "      <th>value</th>\n",
       "    </tr>\n",
       "    <tr>\n",
       "      <th>date</th>\n",
       "      <th>category</th>\n",
       "      <th></th>\n",
       "    </tr>\n",
       "  </thead>\n",
       "  <tbody>\n",
       "    <tr>\n",
       "      <th rowspan=\"14\" valign=\"top\">2019-07-01</th>\n",
       "      <th>cloud-conference</th>\n",
       "      <td>4.0</td>\n",
       "    </tr>\n",
       "    <tr>\n",
       "      <th>cloud-security</th>\n",
       "      <td>4.0</td>\n",
       "    </tr>\n",
       "    <tr>\n",
       "      <th>cloud-team</th>\n",
       "      <td>4.0</td>\n",
       "    </tr>\n",
       "    <tr>\n",
       "      <th>conference-security</th>\n",
       "      <td>4.0</td>\n",
       "    </tr>\n",
       "    <tr>\n",
       "      <th>microsoft-cloud</th>\n",
       "      <td>4.0</td>\n",
       "    </tr>\n",
       "    <tr>\n",
       "      <th>microsoft-conference</th>\n",
       "      <td>6.0</td>\n",
       "    </tr>\n",
       "    <tr>\n",
       "      <th>microsoft-security</th>\n",
       "      <td>4.0</td>\n",
       "    </tr>\n",
       "    <tr>\n",
       "      <th>microsoft-team</th>\n",
       "      <td>4.0</td>\n",
       "    </tr>\n",
       "    <tr>\n",
       "      <th>microsoft-video</th>\n",
       "      <td>5.0</td>\n",
       "    </tr>\n",
       "    <tr>\n",
       "      <th>team-conference</th>\n",
       "      <td>2.0</td>\n",
       "    </tr>\n",
       "    <tr>\n",
       "      <th>video-cloud</th>\n",
       "      <td>4.0</td>\n",
       "    </tr>\n",
       "    <tr>\n",
       "      <th>video-conference</th>\n",
       "      <td>6.0</td>\n",
       "    </tr>\n",
       "    <tr>\n",
       "      <th>video-security</th>\n",
       "      <td>2.0</td>\n",
       "    </tr>\n",
       "    <tr>\n",
       "      <th>video-team</th>\n",
       "      <td>4.0</td>\n",
       "    </tr>\n",
       "    <tr>\n",
       "      <th rowspan=\"6\" valign=\"top\">2019-07-02</th>\n",
       "      <th>cloud-conference</th>\n",
       "      <td>0.0</td>\n",
       "    </tr>\n",
       "    <tr>\n",
       "      <th>cloud-security</th>\n",
       "      <td>0.0</td>\n",
       "    </tr>\n",
       "    <tr>\n",
       "      <th>cloud-team</th>\n",
       "      <td>0.0</td>\n",
       "    </tr>\n",
       "    <tr>\n",
       "      <th>conference-security</th>\n",
       "      <td>0.0</td>\n",
       "    </tr>\n",
       "    <tr>\n",
       "      <th>microsoft-cloud</th>\n",
       "      <td>1.0</td>\n",
       "    </tr>\n",
       "    <tr>\n",
       "      <th>microsoft-conference</th>\n",
       "      <td>0.0</td>\n",
       "    </tr>\n",
       "  </tbody>\n",
       "</table>\n",
       "</div>"
      ],
      "text/plain": [
       "                                 value\n",
       "date       category                   \n",
       "2019-07-01 cloud-conference        4.0\n",
       "           cloud-security          4.0\n",
       "           cloud-team              4.0\n",
       "           conference-security     4.0\n",
       "           microsoft-cloud         4.0\n",
       "           microsoft-conference    6.0\n",
       "           microsoft-security      4.0\n",
       "           microsoft-team          4.0\n",
       "           microsoft-video         5.0\n",
       "           team-conference         2.0\n",
       "           video-cloud             4.0\n",
       "           video-conference        6.0\n",
       "           video-security          2.0\n",
       "           video-team              4.0\n",
       "2019-07-02 cloud-conference        0.0\n",
       "           cloud-security          0.0\n",
       "           cloud-team              0.0\n",
       "           conference-security     0.0\n",
       "           microsoft-cloud         1.0\n",
       "           microsoft-conference    0.0"
      ]
     },
     "execution_count": 106,
     "metadata": {},
     "output_type": "execute_result"
    }
   ],
   "source": [
    "from moda.dataprep import ts_to_range\n",
    "ranged_ts = ts_to_range(ts, time_range=TIME_RANGE)\n",
    "ranged_ts.head(20)"
   ]
  },
  {
   "cell_type": "code",
   "execution_count": 95,
   "metadata": {},
   "outputs": [],
   "source": [
    "#!pip install dfply"
   ]
  },
  {
   "cell_type": "code",
   "execution_count": 103,
   "metadata": {},
   "outputs": [
    {
     "name": "stdout",
     "output_type": "stream",
     "text": [
      "Filtered dataset contains 15 categories,\n",
      "after filtering the small ones that existed less than 100 days or had 10 values of less.\n"
     ]
    },
    {
     "data": {
      "text/html": [
       "<div>\n",
       "<style scoped>\n",
       "    .dataframe tbody tr th:only-of-type {\n",
       "        vertical-align: middle;\n",
       "    }\n",
       "\n",
       "    .dataframe tbody tr th {\n",
       "        vertical-align: top;\n",
       "    }\n",
       "\n",
       "    .dataframe thead th {\n",
       "        text-align: right;\n",
       "    }\n",
       "</style>\n",
       "<table border=\"1\" class=\"dataframe\">\n",
       "  <thead>\n",
       "    <tr style=\"text-align: right;\">\n",
       "      <th></th>\n",
       "      <th>category</th>\n",
       "      <th>value</th>\n",
       "      <th>duration_in_dataset</th>\n",
       "    </tr>\n",
       "  </thead>\n",
       "  <tbody>\n",
       "    <tr>\n",
       "      <th>4</th>\n",
       "      <td>microsoft-cloud</td>\n",
       "      <td>775.0</td>\n",
       "      <td>395 days</td>\n",
       "    </tr>\n",
       "    <tr>\n",
       "      <th>8</th>\n",
       "      <td>microsoft-video</td>\n",
       "      <td>513.0</td>\n",
       "      <td>395 days</td>\n",
       "    </tr>\n",
       "    <tr>\n",
       "      <th>1</th>\n",
       "      <td>cloud-security</td>\n",
       "      <td>481.0</td>\n",
       "      <td>395 days</td>\n",
       "    </tr>\n",
       "    <tr>\n",
       "      <th>14</th>\n",
       "      <td>video-team</td>\n",
       "      <td>439.0</td>\n",
       "      <td>394 days</td>\n",
       "    </tr>\n",
       "    <tr>\n",
       "      <th>3</th>\n",
       "      <td>conference-security</td>\n",
       "      <td>385.0</td>\n",
       "      <td>394 days</td>\n",
       "    </tr>\n",
       "  </tbody>\n",
       "</table>\n",
       "</div>"
      ],
      "text/plain": [
       "               category  value duration_in_dataset\n",
       "4       microsoft-cloud  775.0            395 days\n",
       "8       microsoft-video  513.0            395 days\n",
       "1        cloud-security  481.0            395 days\n",
       "14           video-team  439.0            394 days\n",
       "3   conference-security  385.0            394 days"
      ]
     },
     "execution_count": 103,
     "metadata": {},
     "output_type": "execute_result"
    }
   ],
   "source": [
    "#I'm using dfply because I like its functional-like syntax. This can also be done with plain pandas.\n",
    "#!pip install dfply\n",
    "from dfply import *\n",
    "\n",
    "## Remove categories with less than 1000 items (in more than 10 years) or that existed less than 100 days\n",
    "#min_values = 1000\n",
    "min_values = 10\n",
    "min_days = 100\n",
    "\n",
    "\n",
    "\n",
    "categories = ranged_ts.reset_index() >> group_by(X.category) >> \\\n",
    "    summarise(value = np.sum(X.value),duration_in_dataset = X.date.max()-X.date.min()) >> \\\n",
    "    ungroup() >> \\\n",
    "    mask(X.duration_in_dataset.dt.days > min_days) >> \\\n",
    "    mask(X.value > min_values) >> \\\n",
    "    arrange(X.value,ascending=False)\n",
    "\n",
    "\n",
    "\n",
    "print(\"Filtered dataset contains {0} categories,\\nafter filtering the small ones that existed less than {1} days or had {2} values of less.\".\n",
    "      format(len(categories),min_days,min_values))\n",
    "\n",
    "categories.head()"
   ]
  },
  {
   "cell_type": "markdown",
   "metadata": {},
   "source": [
    "### Most common categories"
   ]
  },
  {
   "cell_type": "code",
   "execution_count": 104,
   "metadata": {},
   "outputs": [
    {
     "data": {
      "image/png": "[encoded data removed]",
      "text/plain": [
       "<Figure size 1440x360 with 2 Axes>"
      ]
     },
     "metadata": {
      "needs_background": "light"
     },
     "output_type": "display_data"
    }
   ],
   "source": [
    "category_names = categories['category'].values\n",
    "num_categories = len(categories)\n",
    "\n",
    "major_category_threshold=11\n",
    "major_categories = category_names[:major_category_threshold]\n",
    "minor_categories = category_names[major_category_threshold:]\n",
    "\n",
    "fig, axes = plt.subplots(nrows=1, ncols=2)\n",
    "fig.set_figheight(5)\n",
    "fig.set_figwidth(20)\n",
    "\n",
    "categories[categories['category'].isin(major_categories)].plot(kind='bar',\n",
    "                                                               x='category',\n",
    "                                                               y='value',\n",
    "                                                               title=\"Top \"+str(major_category_threshold-1)+\" common categories on the SF311 dataset\",\n",
    "                                                               ax=axes[0])\n",
    "categories[categories['category'].isin(minor_categories)].plot(kind='bar',\n",
    "                                                               x='category',\n",
    "                                                               y='value',\n",
    "                                                               title=str(major_category_threshold)+\"th to \"+str(num_categories)+\"th most common categories on the SF311 dataset\",\n",
    "                                                               ax=axes[1])\n",
    "\n",
    "plt.savefig(\"category_values.png\",bbox_inches='tight')"
   ]
  },
  {
   "cell_type": "markdown",
   "metadata": {},
   "source": [
    "### Change in requests per category from year to year"
   ]
  },
  {
   "cell_type": "code",
   "execution_count": 75,
   "metadata": {},
   "outputs": [
    {
     "name": "stderr",
     "output_type": "stream",
     "text": [
      "/home/eboros/anaconda3/envs/python36/lib/python3.6/site-packages/seaborn/categorical.py:3714: UserWarning: The `factorplot` function has been renamed to `catplot`. The original name will be removed in a future release. Please update your code. Note that the default `kind` in `factorplot` (`'point'`) has changed `'strip'` in `catplot`.\n",
      "  warnings.warn(msg)\n",
      "/home/eboros/anaconda3/envs/python36/lib/python3.6/site-packages/seaborn/categorical.py:3720: UserWarning: The `size` parameter has been renamed to `height`; please update your code.\n",
      "  warnings.warn(msg, UserWarning)\n"
     ]
    },
    {
     "data": {
      "image/png": "[encoded data removed]",
      "text/plain": [
       "<Figure size 1213.38x288 with 1 Axes>"
      ]
     },
     "metadata": {
      "needs_background": "light"
     },
     "output_type": "display_data"
    }
   ],
   "source": [
    "## Calculate the number of values per category per year\n",
    "categories_yearly = ranged_ts.reset_index() >> mutate(year = X.date.dt.year) >> group_by(X.category,X.year) >> \\\n",
    "    summarise(value_per_year = np.sum(X.value),\n",
    "              duration_in_dataset = X.date.max()-X.date.min()) >>\\\n",
    "    ungroup() >> \\\n",
    "    mask(X.value_per_year > (min_values/12.0)) >> \\\n",
    "    arrange(X.value_per_year,ascending=False)\n",
    "\n",
    "import seaborn as sns\n",
    "\n",
    "major_cats_yearly = categories_yearly[categories_yearly['category'].isin(major_categories)]\n",
    "\n",
    "g = sns.factorplot(x='category', y='value_per_year', hue='year', data=major_cats_yearly, kind='bar', size=4, aspect=4,legend=True)\n",
    "g.set_xticklabels(rotation=90)\n",
    "axes = g.axes.flatten()\n",
    "axes[0].set_title(\"Yearly number of incidents for the top \"+str(major_category_threshold-1)+\" categories\")\n",
    "plt.savefig(\"yearly_values.png\",bbox_inches='tight')"
   ]
  },
  {
   "cell_type": "code",
   "execution_count": 76,
   "metadata": {},
   "outputs": [
    {
     "name": "stderr",
     "output_type": "stream",
     "text": [
      "/home/eboros/anaconda3/envs/python36/lib/python3.6/site-packages/seaborn/categorical.py:3714: UserWarning: The `factorplot` function has been renamed to `catplot`. The original name will be removed in a future release. Please update your code. Note that the default `kind` in `factorplot` (`'point'`) has changed `'strip'` in `catplot`.\n",
      "  warnings.warn(msg)\n",
      "/home/eboros/anaconda3/envs/python36/lib/python3.6/site-packages/seaborn/categorical.py:3720: UserWarning: The `size` parameter has been renamed to `height`; please update your code.\n",
      "  warnings.warn(msg, UserWarning)\n"
     ]
    },
    {
     "data": {
      "text/plain": [
       "Text(0.5, 1.0, 'Yearly number of incidents for the 11th to 15th categories')"
      ]
     },
     "execution_count": 76,
     "metadata": {},
     "output_type": "execute_result"
    },
    {
     "data": {
      "image/png": "[encoded data removed]",
      "text/plain": [
       "<Figure size 1213.38x288 with 1 Axes>"
      ]
     },
     "metadata": {
      "needs_background": "light"
     },
     "output_type": "display_data"
    }
   ],
   "source": [
    "minor_cats_yearly = categories_yearly[categories_yearly['category'].isin(minor_categories)]\n",
    "\n",
    "g = sns.factorplot(x='category', y='value_per_year', hue='year', data=minor_cats_yearly, kind='bar', size=4, aspect=4,legend=True)\n",
    "g.set_xticklabels(rotation=90)\n",
    "axes = g.axes.flatten()\n",
    "axes[0].set_title(\"Yearly number of incidents for the \"+str(major_category_threshold)+\"th to \"+str(num_categories)+\"th categories\")"
   ]
  },
  {
   "cell_type": "markdown",
   "metadata": {},
   "source": [
    "### Correlation between categories over time"
   ]
  },
  {
   "cell_type": "code",
   "execution_count": 78,
   "metadata": {},
   "outputs": [
    {
     "data": {
      "image/png": "[encoded data removed]",
      "text/plain": [
       "<Figure size 792x648 with 2 Axes>"
      ]
     },
     "metadata": {
      "needs_background": "light"
     },
     "output_type": "display_data"
    }
   ],
   "source": [
    "categories_yearly_pivot = categories_yearly.pivot(\"year\", \"category\", \"value_per_year\")\n",
    "categories_yearly_pivot.head()\n",
    "corr = categories_yearly_pivot.corr()\n",
    "mask = np.zeros_like(corr, dtype=np.bool)\n",
    "mask[np.triu_indices_from(mask)] = True\n",
    "\n",
    "# Set up the matplotlib figure\n",
    "f, ax = plt.subplots(figsize=(11, 9))\n",
    "\n",
    "# Generate a custom diverging colormap\n",
    "cmap = sns.diverging_palette(220, 10, as_cmap=True)\n",
    "\n",
    "# Draw the heatmap with the mask and correct aspect ratio\n",
    "_ = sns.heatmap(corr, mask=mask, cmap=cmap, vmax=.3, center=0,\n",
    "            square=True, linewidths=.5, cbar_kws={\"shrink\": .5})"
   ]
  },
  {
   "cell_type": "markdown",
   "metadata": {},
   "source": [
    "### One category inspection\n",
    "#### Example 1: Noise Reports"
   ]
  },
  {
   "cell_type": "code",
   "execution_count": 88,
   "metadata": {},
   "outputs": [
    {
     "data": {
      "text/plain": [
       "<AxesSubplot:title={'center':'Number of incidents per 24 hours for video-conference'}, xlabel='date'>"
      ]
     },
     "execution_count": 88,
     "metadata": {},
     "output_type": "execute_result"
    },
    {
     "data": {
      "image/png": "[encoded data removed]",
      "text/plain": [
       "<Figure size 1728x432 with 1 Axes>"
      ]
     },
     "metadata": {
      "needs_background": "light"
     },
     "output_type": "display_data"
    }
   ],
   "source": [
    "category = \"video-conference\"\n",
    "ranged_ts.loc[pd.IndexSlice[:, category], :].reset_index().plot(kind='line',x='date',y='value',figsize=(24,6),linewidth=0.7, \n",
    "                          title = \"Number of incidents per 24 hours for {}\".format(category))"
   ]
  },
  {
   "cell_type": "markdown",
   "metadata": {},
   "source": [
    "As comparison, let's look at the same time series with different time ranges (30 minutes, 1 hour and 24 hours), only on two months of data"
   ]
  },
  {
   "cell_type": "code",
   "execution_count": 84,
   "metadata": {},
   "outputs": [],
   "source": [
    "import moda"
   ]
  },
  {
   "cell_type": "code",
   "execution_count": 89,
   "metadata": {},
   "outputs": [
    {
     "data": {
      "image/png": "[encoded data removed]",
      "text/plain": [
       "<Figure size 1440x864 with 3 Axes>"
      ]
     },
     "metadata": {
      "needs_background": "light"
     },
     "output_type": "display_data"
    }
   ],
   "source": [
    "from moda.dataprep import ts_to_range\n",
    "ranged_ts_3H = ts_to_range(ts, time_range='3H', pad_with_zeros=True)\n",
    "ranged_ts_30min = ts_to_range(ts, time_range='30min', pad_with_zeros=True)\n",
    "ranged_ts_24H = ts_to_range(ts, time_range='24H', pad_with_zeros=True)\n",
    "\n",
    "START = '2019-07-01'\n",
    "END = '2020-07-30'\n",
    "category = 'video-conference'\n",
    " \n",
    "fig, axes = plt.subplots(nrows=3, ncols=1,figsize=(20,12))\n",
    "\n",
    "cleaning_30min = ranged_ts_30min.loc[pd.IndexSlice[:, category], :].reset_index()\n",
    "a1=cleaning_30min[(cleaning_30min.date > START) & (cleaning_30min.date<=END)].plot(kind='line',x='date',y='value',linewidth=0.7, ax=axes[0])\n",
    "\n",
    "cleaning_3H = ranged_ts_3H.loc[pd.IndexSlice[:, category], :].reset_index()\n",
    "a2=cleaning_3H[(cleaning_3H.date > START) & (cleaning_3H.date<=END)].plot(kind='line',x='date',y='value',linewidth=0.7, ax=axes[1])\n",
    "\n",
    "cleaning_24H = ranged_ts.loc[pd.IndexSlice[:, category], :].reset_index()\n",
    "a3=cleaning_24H[(cleaning_24H.date > START) & (cleaning_24H.date<=END)].plot(kind='line',x='date',y='value',linewidth=0.7, ax=axes[2])\n"
   ]
  },
  {
   "cell_type": "markdown",
   "metadata": {},
   "source": [
    "We can see that there are multiple seasonality factors in this time series. Hourly and weekly patterns are visible on the 30 minute interval time series, and the 3 hours interval time series"
   ]
  },
  {
   "cell_type": "markdown",
   "metadata": {},
   "source": [
    "## Evaluating different models on the SF 24H data"
   ]
  },
  {
   "cell_type": "markdown",
   "metadata": {},
   "source": [
    "First, in order to be able to estimate our models, we use [TagAnomaly](https://github.com/Microsoft/TagAnomaly) to tag the points we think are showing trends in the data. Taganomaly can be found here: https://github.com/Microsoft/TagAnomaly\n",
    "Second, we join the tagged dataset with the time series dataset. Each sample which isn't included in the tagged dataset is assumed to be non-trending (or normal)"
   ]
  },
  {
   "cell_type": "code",
   "execution_count": 16,
   "metadata": {},
   "outputs": [
    {
     "data": {
      "text/html": [
       "<div>\n",
       "<style scoped>\n",
       "    .dataframe tbody tr th:only-of-type {\n",
       "        vertical-align: middle;\n",
       "    }\n",
       "\n",
       "    .dataframe tbody tr th {\n",
       "        vertical-align: top;\n",
       "    }\n",
       "\n",
       "    .dataframe thead th {\n",
       "        text-align: right;\n",
       "    }\n",
       "</style>\n",
       "<table border=\"1\" class=\"dataframe\">\n",
       "  <thead>\n",
       "    <tr style=\"text-align: right;\">\n",
       "      <th></th>\n",
       "      <th>date</th>\n",
       "      <th>category</th>\n",
       "      <th>value</th>\n",
       "      <th>label</th>\n",
       "    </tr>\n",
       "  </thead>\n",
       "  <tbody>\n",
       "    <tr>\n",
       "      <th>52</th>\n",
       "      <td>2018-01-07</td>\n",
       "      <td>Sidewalk or Curb</td>\n",
       "      <td>34</td>\n",
       "      <td>1</td>\n",
       "    </tr>\n",
       "    <tr>\n",
       "      <th>41</th>\n",
       "      <td>2018-01-08</td>\n",
       "      <td>Sewer Issues</td>\n",
       "      <td>168</td>\n",
       "      <td>1</td>\n",
       "    </tr>\n",
       "    <tr>\n",
       "      <th>8</th>\n",
       "      <td>2018-01-08</td>\n",
       "      <td>Catch Basin Maintenance</td>\n",
       "      <td>19</td>\n",
       "      <td>1</td>\n",
       "    </tr>\n",
       "    <tr>\n",
       "      <th>24</th>\n",
       "      <td>2018-01-08</td>\n",
       "      <td>General Request - PUC</td>\n",
       "      <td>38</td>\n",
       "      <td>1</td>\n",
       "    </tr>\n",
       "    <tr>\n",
       "      <th>73</th>\n",
       "      <td>2018-01-09</td>\n",
       "      <td>Temporary Sign Request</td>\n",
       "      <td>62</td>\n",
       "      <td>1</td>\n",
       "    </tr>\n",
       "  </tbody>\n",
       "</table>\n",
       "</div>"
      ],
      "text/plain": [
       "         date                 category  value  label\n",
       "52 2018-01-07         Sidewalk or Curb     34      1\n",
       "41 2018-01-08             Sewer Issues    168      1\n",
       "8  2018-01-08  Catch Basin Maintenance     19      1\n",
       "24 2018-01-08    General Request - PUC     38      1\n",
       "73 2018-01-09   Temporary Sign Request     62      1"
      ]
     },
     "execution_count": 16,
     "metadata": {},
     "output_type": "execute_result"
    }
   ],
   "source": [
    "## Add labeled data\n",
    "labels24H = pd.read_csv('SF_data/SF_24H_anomalies_only.csv',usecols=['date','category','value'])\n",
    "labels24H.date = pd.to_datetime(labels24H.date)\n",
    "\n",
    "labels24H['label'] = 1\n",
    "labels24H.sort_values(by='date').head()"
   ]
  },
  {
   "cell_type": "code",
   "execution_count": 17,
   "metadata": {},
   "outputs": [
    {
     "data": {
      "text/html": [
       "<div>\n",
       "<style scoped>\n",
       "    .dataframe tbody tr th:only-of-type {\n",
       "        vertical-align: middle;\n",
       "    }\n",
       "\n",
       "    .dataframe tbody tr th {\n",
       "        vertical-align: top;\n",
       "    }\n",
       "\n",
       "    .dataframe thead th {\n",
       "        text-align: right;\n",
       "    }\n",
       "</style>\n",
       "<table border=\"1\" class=\"dataframe\">\n",
       "  <thead>\n",
       "    <tr style=\"text-align: right;\">\n",
       "      <th></th>\n",
       "      <th></th>\n",
       "      <th>value</th>\n",
       "    </tr>\n",
       "    <tr>\n",
       "      <th>date</th>\n",
       "      <th>category</th>\n",
       "      <th></th>\n",
       "    </tr>\n",
       "  </thead>\n",
       "  <tbody>\n",
       "    <tr>\n",
       "      <th rowspan=\"5\" valign=\"top\">2018-01-01</th>\n",
       "      <th>311 External Request</th>\n",
       "      <td>0.0</td>\n",
       "    </tr>\n",
       "    <tr>\n",
       "      <th>Abandoned Vehicle</th>\n",
       "      <td>52.0</td>\n",
       "    </tr>\n",
       "    <tr>\n",
       "      <th>Blocked Street or SideWalk</th>\n",
       "      <td>14.0</td>\n",
       "    </tr>\n",
       "    <tr>\n",
       "      <th>Catch Basin Maintenance</th>\n",
       "      <td>1.0</td>\n",
       "    </tr>\n",
       "    <tr>\n",
       "      <th>Color Curb</th>\n",
       "      <td>2.0</td>\n",
       "    </tr>\n",
       "  </tbody>\n",
       "</table>\n",
       "</div>"
      ],
      "text/plain": [
       "                                       value\n",
       "date       category                         \n",
       "2018-01-01 311 External Request          0.0\n",
       "           Abandoned Vehicle            52.0\n",
       "           Blocked Street or SideWalk   14.0\n",
       "           Catch Basin Maintenance       1.0\n",
       "           Color Curb                    2.0"
      ]
     },
     "execution_count": 17,
     "metadata": {},
     "output_type": "execute_result"
    }
   ],
   "source": [
    "# Since we have labels only for 2018, we'll filter out previous years.\n",
    "ts2018 = ranged_ts[ranged_ts.index.get_level_values(0).year == 2018]\n",
    "ts2018.head()"
   ]
  },
  {
   "cell_type": "code",
   "execution_count": 18,
   "metadata": {},
   "outputs": [],
   "source": [
    "df24H = pd.merge(ts2018.reset_index(),labels24H,how='left',on=['date','category'])\n",
    "df24H['label'] = np.where(np.isnan(df24H['value_y']),0,1)\n",
    "df24H = df24H.set_index([pd.DatetimeIndex(df24H['date']),'category'])\n",
    "df24H = df24H.drop(columns = ['date','value_y']).rename(columns = {'value_x':'value'})\n",
    "df24H.head()\n",
    "df24H.to_csv(\"SF24H_labeled.csv\")"
   ]
  },
  {
   "cell_type": "code",
   "execution_count": 19,
   "metadata": {},
   "outputs": [
    {
     "data": {
      "text/plain": [
       "18059"
      ]
     },
     "execution_count": 19,
     "metadata": {},
     "output_type": "execute_result"
    }
   ],
   "source": [
    "len(df24H)"
   ]
  },
  {
   "cell_type": "code",
   "execution_count": 20,
   "metadata": {},
   "outputs": [
    {
     "ename": "ModuleNotFoundError",
     "evalue": "No module named 'moda.models.azure_anomaly_detection'",
     "output_type": "error",
     "traceback": [
      "\u001b[1;31m---------------------------------------------------------------------------\u001b[0m",
      "\u001b[1;31mModuleNotFoundError\u001b[0m                       Traceback (most recent call last)",
      "\u001b[1;32m<ipython-input-20-eeb3f516fcd5>\u001b[0m in \u001b[0;36m<module>\u001b[1;34m()\u001b[0m\n\u001b[1;32m----> 1\u001b[1;33m \u001b[1;32mfrom\u001b[0m \u001b[0mmoda\u001b[0m\u001b[1;33m.\u001b[0m\u001b[0mevaluators\u001b[0m \u001b[1;32mimport\u001b[0m \u001b[0mget_metrics_for_all_categories\u001b[0m\u001b[1;33m,\u001b[0m \u001b[0mget_final_metrics\u001b[0m\u001b[1;33m\u001b[0m\u001b[0m\n\u001b[0m\u001b[0;32m      2\u001b[0m \u001b[1;32mfrom\u001b[0m \u001b[0mmoda\u001b[0m\u001b[1;33m.\u001b[0m\u001b[0mdataprep\u001b[0m \u001b[1;32mimport\u001b[0m \u001b[0mread_data\u001b[0m\u001b[1;33m\u001b[0m\u001b[0m\n\u001b[0;32m      3\u001b[0m \u001b[1;32mfrom\u001b[0m \u001b[0mmoda\u001b[0m\u001b[1;33m.\u001b[0m\u001b[0mmodels\u001b[0m \u001b[1;32mimport\u001b[0m \u001b[0mTwitterAnomalyTrendinessDetector\u001b[0m\u001b[1;33m,\u001b[0m \u001b[0mMovingAverageSeasonalTrendinessDetector\u001b[0m\u001b[1;33m,\u001b[0m     \u001b[0mSTLTrendinessDetector\u001b[0m\u001b[1;33m,\u001b[0m \u001b[0mAzureAnomalyTrendinessDetector\u001b[0m\u001b[1;33m\u001b[0m\u001b[0m\n\u001b[0;32m      4\u001b[0m \u001b[1;33m\u001b[0m\u001b[0m\n\u001b[0;32m      5\u001b[0m \u001b[1;33m\u001b[0m\u001b[0m\n",
      "\u001b[1;32mC:\\ProgramData\\Anaconda3\\lib\\site-packages\\moda-0.1.4-py3.6.egg\\moda\\evaluators\\__init__.py\u001b[0m in \u001b[0;36m<module>\u001b[1;34m()\u001b[0m\n\u001b[0;32m      1\u001b[0m \u001b[1;32mfrom\u001b[0m \u001b[1;33m.\u001b[0m\u001b[0meval\u001b[0m \u001b[1;32mimport\u001b[0m \u001b[0meval_models\u001b[0m\u001b[1;33m,\u001b[0m\u001b[0meval_models_CV\u001b[0m\u001b[1;33m\u001b[0m\u001b[0m\n\u001b[0;32m      2\u001b[0m \u001b[1;32mfrom\u001b[0m \u001b[1;33m.\u001b[0m\u001b[0mmetrics\u001b[0m \u001b[1;32mimport\u001b[0m \u001b[0mget_metrics_for_all_categories\u001b[0m\u001b[1;33m,\u001b[0m \u001b[0mget_final_metrics\u001b[0m\u001b[1;33m,\u001b[0m \u001b[0msummarize_metrics\u001b[0m\u001b[1;33m,\u001b[0m \u001b[0mf_beta\u001b[0m\u001b[1;33m\u001b[0m\u001b[0m\n\u001b[1;32m----> 3\u001b[1;33m \u001b[1;32mfrom\u001b[0m \u001b[1;33m.\u001b[0m\u001b[0meval_all_models\u001b[0m \u001b[1;32mimport\u001b[0m \u001b[0mevaluate_all_models\u001b[0m\u001b[1;33m\u001b[0m\u001b[0m\n\u001b[0m",
      "\u001b[1;32mC:\\ProgramData\\Anaconda3\\lib\\site-packages\\moda-0.1.4-py3.6.egg\\moda\\evaluators\\eval_all_models.py\u001b[0m in \u001b[0;36m<module>\u001b[1;34m()\u001b[0m\n\u001b[0;32m      7\u001b[0m \u001b[1;32mfrom\u001b[0m \u001b[0mmoda\u001b[0m\u001b[1;33m.\u001b[0m\u001b[0mdataprep\u001b[0m \u001b[1;32mimport\u001b[0m \u001b[0mread_data\u001b[0m\u001b[1;33m\u001b[0m\u001b[0m\n\u001b[0;32m      8\u001b[0m \u001b[1;32mfrom\u001b[0m \u001b[0mmoda\u001b[0m\u001b[1;33m.\u001b[0m\u001b[0mevaluators\u001b[0m \u001b[1;32mimport\u001b[0m \u001b[0meval_models\u001b[0m\u001b[1;33m,\u001b[0m \u001b[0mget_metrics_for_all_categories\u001b[0m\u001b[1;33m,\u001b[0m \u001b[0msummarize_metrics\u001b[0m\u001b[1;33m,\u001b[0m \u001b[0mget_final_metrics\u001b[0m\u001b[1;33m\u001b[0m\u001b[0m\n\u001b[1;32m----> 9\u001b[1;33m \u001b[1;32mfrom\u001b[0m \u001b[0mmoda\u001b[0m\u001b[1;33m.\u001b[0m\u001b[0mmodels\u001b[0m \u001b[1;32mimport\u001b[0m \u001b[0mAzureAnomalyTrendinessDetector\u001b[0m\u001b[1;33m\u001b[0m\u001b[0m\n\u001b[0m\u001b[0;32m     10\u001b[0m \u001b[1;32mfrom\u001b[0m \u001b[0mmoda\u001b[0m\u001b[1;33m.\u001b[0m\u001b[0mmodels\u001b[0m \u001b[1;32mimport\u001b[0m \u001b[0mMovingAverageSeasonalTrendinessDetector\u001b[0m\u001b[1;33m\u001b[0m\u001b[0m\n\u001b[0;32m     11\u001b[0m \u001b[1;32mfrom\u001b[0m \u001b[0mmoda\u001b[0m\u001b[1;33m.\u001b[0m\u001b[0mmodels\u001b[0m \u001b[1;32mimport\u001b[0m \u001b[0mSTLTrendinessDetector\u001b[0m\u001b[1;33m\u001b[0m\u001b[0m\n",
      "\u001b[1;32mC:\\ProgramData\\Anaconda3\\lib\\site-packages\\moda-0.1.4-py3.6.egg\\moda\\models\\__init__.py\u001b[0m in \u001b[0;36m<module>\u001b[1;34m()\u001b[0m\n\u001b[1;32m----> 1\u001b[1;33m \u001b[1;32mfrom\u001b[0m \u001b[1;33m.\u001b[0m\u001b[0mazure_anomaly_detection\u001b[0m\u001b[1;33m.\u001b[0m\u001b[0mazure_ad\u001b[0m \u001b[1;32mimport\u001b[0m \u001b[0mAzureAnomalyTrendinessDetector\u001b[0m\u001b[1;33m\u001b[0m\u001b[0m\n\u001b[0m\u001b[0;32m      2\u001b[0m \u001b[1;32mfrom\u001b[0m \u001b[1;33m.\u001b[0m\u001b[0mstl\u001b[0m\u001b[1;33m.\u001b[0m\u001b[0mstl_model\u001b[0m \u001b[1;32mimport\u001b[0m \u001b[0mSTLTrendinessDetector\u001b[0m\u001b[1;33m\u001b[0m\u001b[0m\n\u001b[0;32m      3\u001b[0m \u001b[1;32mfrom\u001b[0m \u001b[1;33m.\u001b[0m\u001b[0mma_seasonal\u001b[0m\u001b[1;33m.\u001b[0m\u001b[0mma_seasonal_model\u001b[0m \u001b[1;32mimport\u001b[0m \u001b[0mMovingAverageSeasonalTrendinessDetector\u001b[0m\u001b[1;33m\u001b[0m\u001b[0m\n\u001b[0;32m      4\u001b[0m \u001b[1;32mfrom\u001b[0m \u001b[1;33m.\u001b[0m\u001b[0mtwitter\u001b[0m\u001b[1;33m.\u001b[0m\u001b[0mtwitter_trendiness_detector\u001b[0m \u001b[1;32mimport\u001b[0m \u001b[0mTwitterAnomalyTrendinessDetector\u001b[0m\u001b[1;33m\u001b[0m\u001b[0m\n\u001b[0;32m      5\u001b[0m \u001b[1;32mfrom\u001b[0m \u001b[1;33m.\u001b[0m\u001b[0mlstm\u001b[0m\u001b[1;33m.\u001b[0m\u001b[0mlstm_anomaly\u001b[0m \u001b[1;32mimport\u001b[0m \u001b[0mLSTMTrendinessDetector\u001b[0m\u001b[1;33m\u001b[0m\u001b[0m\n",
      "\u001b[1;31mModuleNotFoundError\u001b[0m: No module named 'moda.models.azure_anomaly_detection'"
     ]
    }
   ],
   "source": [
    "from moda.evaluators import get_metrics_for_all_categories, get_final_metrics\n",
    "from moda.dataprep import read_data\n",
    "from moda.models import TwitterAnomalyTrendinessDetector, MovingAverageSeasonalTrendinessDetector, \\\n",
    "    STLTrendinessDetector, AzureAnomalyTrendinessDetector\n",
    "\n",
    "\n",
    "def run_model(dataset, freq, min_date='01-01-2018', plot=False, model_name='stl', min_value=10,\n",
    "              min_samples_for_category=100):\n",
    "\n",
    "\n",
    "    if model_name == 'twitter':\n",
    "        model = TwitterAnomalyTrendinessDetector(is_multicategory=True, freq=freq, min_value=min_value, threshold=None,\n",
    "                                                 max_anoms=0.49, seasonality_freq=7)\n",
    "\n",
    "    if model_name == 'ma_seasonal':\n",
    "        model = MovingAverageSeasonalTrendinessDetector(is_multicategory=True, freq=freq, min_value=min_value,\n",
    "                                                        anomaly_type='or',\n",
    "                                                        num_of_std=3)\n",
    "\n",
    "    if model_name == 'stl':\n",
    "        model = STLTrendinessDetector(is_multicategory=True, freq=freq, min_value=min_value,\n",
    "                                      anomaly_type='residual',\n",
    "                                      num_of_std=3, lo_delta=0)\n",
    "\n",
    "    if model_name == 'azure':\n",
    "        dirname = os.path.dirname(__file__)\n",
    "        filename = os.path.join(dirname, 'config/config.json')\n",
    "        subscription_key = get_azure_subscription_key(filename)\n",
    "        model = AzureAnomalyTrendinessDetector(is_multicategory=True, freq=freq, min_value=min_value,\n",
    "                                               subscription_key=subscription_key)\n",
    "    \n",
    "    # There is no fit/predict here. We take the entire time series and can evaluate anomalies on all of it or just the last window(s)\n",
    "    prediction = model.predict(dataset, verbose=False)\n",
    "    raw_metrics = get_metrics_for_all_categories(dataset[['value']], prediction[['prediction']], dataset[['label']],\n",
    "                                                 window_size_for_metrics=5)\n",
    "    metrics = get_final_metrics(raw_metrics)\n",
    "    print(metrics)\n",
    "\n",
    "    ## Plot each category\n",
    "    if plot:\n",
    "        print(\"Plotting...\")\n",
    "        model.plot(labels=dataset['label'],savefig=False)\n",
    "\n",
    "    return prediction\n"
   ]
  },
  {
   "cell_type": "code",
   "execution_count": null,
   "metadata": {},
   "outputs": [],
   "source": [
    "prediction_stl = run_model(df24H,freq='24H',model_name='stl')"
   ]
  },
  {
   "cell_type": "code",
   "execution_count": null,
   "metadata": {},
   "outputs": [],
   "source": [
    "def plot_one_category(category_dataset,model_name='stl'):\n",
    "\n",
    "    def ts_subplot(plt, series, label):\n",
    "        plt.plot(series, label=label, linewidth=0.5)\n",
    "        plt.legend(loc='best')\n",
    "        plt.xticks(rotation=90)\n",
    "\n",
    "    plt.subplot(421, )\n",
    "    ts_subplot(plt, category_dataset['value'], label='Original')\n",
    "    if 'residual_anomaly' in category_dataset:\n",
    "        plt.subplot(422)\n",
    "        ts_subplot(plt, category_dataset['residual_anomaly'], label='Residual anomaly')\n",
    "    if 'trend' in category_dataset:\n",
    "        plt.subplot(423)\n",
    "        ts_subplot(plt, category_dataset['trend'], label='Trend')\n",
    "    if 'trend_anomaly' in category_dataset:\n",
    "        plt.subplot(424)\n",
    "        ts_subplot(plt, category_dataset['trend_anomaly'], label='Trend anomaly')\n",
    "    if 'seasonality' in category_dataset:\n",
    "        plt.subplot(425)\n",
    "        ts_subplot(plt, category_dataset['seasonality'], label='Seasonality')\n",
    "    \n",
    "    plt.subplot(426)\n",
    "    ts_subplot(plt, category_dataset['prediction'], label='Prediction')\n",
    "    \n",
    "    if 'residual' in category_dataset:\n",
    "        plt.subplot(427)\n",
    "        ts_subplot(plt, category_dataset['residual'], label='Residual')\n",
    "\n",
    "    plt.subplot(428)\n",
    "    ts_subplot(plt, category_dataset['label'], label='Labels')\n",
    "    \n",
    "    category = category_dataset.category[0]\n",
    "    \n",
    "    plt.suptitle(\"{} results for category {}\".format(model_name, category))\n",
    "\n"
   ]
  },
  {
   "cell_type": "code",
   "execution_count": null,
   "metadata": {},
   "outputs": [],
   "source": [
    "graffiti = prediction_stl.loc[pd.IndexSlice[:, 'Graffiti'], :].reset_index(level='category', drop=False)\n",
    "fig = plt.figure(figsize=(20,8))\n",
    "plot_one_category(graffiti,model_name='STL')"
   ]
  },
  {
   "cell_type": "markdown",
   "metadata": {},
   "source": [
    "The time series in this case is relatively noisy. The model was more conservative than the labeler in this case."
   ]
  },
  {
   "cell_type": "code",
   "execution_count": null,
   "metadata": {},
   "outputs": [],
   "source": [
    "sewer = prediction_stl.loc[pd.IndexSlice[:, 'Sewer Issues'], :].reset_index(level='category', drop=False)\n",
    "fig = plt.figure(figsize=(20,8))\n",
    "plot_one_category(sewer,model_name='STL')"
   ]
  },
  {
   "cell_type": "markdown",
   "metadata": {},
   "source": [
    "In this case, we missed the first peak as we didn't have enough historical data to estimate it. Let's compare this result to a different model:"
   ]
  },
  {
   "cell_type": "code",
   "execution_count": null,
   "metadata": {},
   "outputs": [],
   "source": [
    "prediction_ma = run_model(df24H,freq=TIME_RANGE,model_name='ma_seasonal')"
   ]
  },
  {
   "cell_type": "code",
   "execution_count": null,
   "metadata": {},
   "outputs": [],
   "source": [
    "sewer2 = prediction_ma.loc[pd.IndexSlice[:, 'Sewer Issues'], :].reset_index(level='category', drop=False)\n",
    "fig = plt.figure(figsize=(20,8))\n",
    "plot_one_category(sewer2,model_name='MA seasonal')"
   ]
  },
  {
   "cell_type": "markdown",
   "metadata": {},
   "source": [
    "This model estimates the trend differently, and found some anomalies on the trend series as well. It too couldn't detect the first peak as it requires some historical data to estimate standard deviation and other statistics."
   ]
  }
 ],
 "metadata": {
  "kernelspec": {
   "display_name": "Python 3",
   "language": "python",
   "name": "python3"
  },
  "language_info": {
   "codemirror_mode": {
    "name": "ipython",
    "version": 3
   },
   "file_extension": ".py",
   "mimetype": "text/x-python",
   "name": "python",
   "nbconvert_exporter": "python",
   "pygments_lexer": "ipython3",
   "version": "3.6.9"
  }
 },
 "nbformat": 4,
 "nbformat_minor": 2
}
